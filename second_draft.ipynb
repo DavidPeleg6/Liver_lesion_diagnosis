{
 "cells": [
  {
   "attachments": {},
   "cell_type": "markdown",
   "metadata": {},
   "source": [
    "# An approach based on FastAI"
   ]
  },
  {
   "cell_type": "code",
   "execution_count": 1,
   "metadata": {},
   "outputs": [],
   "source": [
    "#hide\n",
    "import pandas as pd\n",
    "import matplotlib.pyplot as plt\n",
    "import seaborn as sns\n",
    "import os\n",
    "import numpy as np\n",
    "from fastai.imports import *\n",
    "from fastai.tabular.all import *\n",
    "from fastbook import *\n",
    "from pandas.api.types import is_string_dtype, is_numeric_dtype, is_categorical_dtype\n",
    "from fastai.tabular.all import *\n",
    "from sklearn.ensemble import RandomForestClassifier\n",
    "from sklearn.tree import DecisionTreeClassifier\n",
    "from dtreeviz.trees import *\n",
    "from IPython.display import Image, display_svg, SVG\n",
    "from sklearn.model_selection import train_test_split\n",
    "\n",
    "pd.options.display.max_rows = 20\n",
    "pd.options.display.max_columns = 8\n",
    "\n",
    "from sklearn.impute import SimpleImputer\n",
    "from scipy import stats\n",
    "import datetime\n",
    "# increase the number of columns shown on screen\n",
    "np.set_printoptions(linewidth=140)"
   ]
  },
  {
   "attachments": {},
   "cell_type": "markdown",
   "metadata": {},
   "source": [
    "### Convert the tables to fit the models"
   ]
  },
  {
   "cell_type": "code",
   "execution_count": 2,
   "metadata": {},
   "outputs": [],
   "source": [
    "# Define a function that calculates the age in years\n",
    "def calculate_age(birth_date):\n",
    "  try:\n",
    "    return (datetime.datetime.now() - birth_date).days // 365\n",
    "  except Exception:\n",
    "    return 0\n",
    "\n",
    "# Define a function that calculates the age in years\n",
    "def days_sense_test(test_date):\n",
    "  try:\n",
    "    return (datetime.datetime.now() - test_date).days\n",
    "  except Exception:\n",
    "    return 0\n",
    "\n",
    "def kp_label(row):\n",
    "    labels = [float(label) for label in row.split('-')]\n",
    "    try:\n",
    "        return (labels[0] + labels[1]) / 2\n",
    "    except Exception:\n",
    "        return labels[0]"
   ]
  },
  {
   "attachments": {},
   "cell_type": "markdown",
   "metadata": {},
   "source": [
    "Convert strings to numerical"
   ]
  },
  {
   "cell_type": "code",
   "execution_count": 3,
   "metadata": {},
   "outputs": [
    {
     "name": "stdout",
     "output_type": "stream",
     "text": [
      "the number of NaN scores are: Accession_number            0\n",
      "Elastography Date           0\n",
      "טבלת המרה                   0\n",
      "gender                    960\n",
      "birthdate                 862\n",
      "BMI                       892\n",
      "fibrosis score            862\n",
      "Kilopascal                868\n",
      "liver biopsy             1072\n",
      "underlying conditions    1086\n",
      "deceased                 1093\n",
      "dtype: int64\n"
     ]
    },
    {
     "data": {
      "text/html": [
       "<div>\n",
       "<style scoped>\n",
       "    .dataframe tbody tr th:only-of-type {\n",
       "        vertical-align: middle;\n",
       "    }\n",
       "\n",
       "    .dataframe tbody tr th {\n",
       "        vertical-align: top;\n",
       "    }\n",
       "\n",
       "    .dataframe thead th {\n",
       "        text-align: right;\n",
       "    }\n",
       "</style>\n",
       "<table border=\"1\" class=\"dataframe\">\n",
       "  <thead>\n",
       "    <tr style=\"text-align: right;\">\n",
       "      <th></th>\n",
       "      <th>Accession_number</th>\n",
       "      <th>Elastography Date</th>\n",
       "      <th>gender</th>\n",
       "      <th>age</th>\n",
       "      <th>BMI</th>\n",
       "      <th>label</th>\n",
       "      <th>Kilopascal</th>\n",
       "      <th>liver biopsy</th>\n",
       "    </tr>\n",
       "  </thead>\n",
       "  <tbody>\n",
       "    <tr>\n",
       "      <th>0</th>\n",
       "      <td>4015009301008</td>\n",
       "      <td>1139.0</td>\n",
       "      <td>NaN</td>\n",
       "      <td>78.0</td>\n",
       "      <td>35.050</td>\n",
       "      <td>2</td>\n",
       "      <td>7.75</td>\n",
       "      <td>0.0</td>\n",
       "    </tr>\n",
       "    <tr>\n",
       "      <th>1</th>\n",
       "      <td>4015007487057</td>\n",
       "      <td>2203.0</td>\n",
       "      <td>NaN</td>\n",
       "      <td>73.0</td>\n",
       "      <td>26.446</td>\n",
       "      <td>0</td>\n",
       "      <td>6.05</td>\n",
       "      <td>0.0</td>\n",
       "    </tr>\n",
       "    <tr>\n",
       "      <th>2</th>\n",
       "      <td>4015008849573</td>\n",
       "      <td>1384.0</td>\n",
       "      <td>NaN</td>\n",
       "      <td>73.0</td>\n",
       "      <td>26.446</td>\n",
       "      <td>0</td>\n",
       "      <td>5.85</td>\n",
       "      <td>0.0</td>\n",
       "    </tr>\n",
       "    <tr>\n",
       "      <th>3</th>\n",
       "      <td>4015010341175</td>\n",
       "      <td>586.0</td>\n",
       "      <td>NaN</td>\n",
       "      <td>73.0</td>\n",
       "      <td>26.446</td>\n",
       "      <td>0</td>\n",
       "      <td>8.50</td>\n",
       "      <td>0.0</td>\n",
       "    </tr>\n",
       "    <tr>\n",
       "      <th>4</th>\n",
       "      <td>4015010798265</td>\n",
       "      <td>376.0</td>\n",
       "      <td>NaN</td>\n",
       "      <td>72.0</td>\n",
       "      <td>34.964</td>\n",
       "      <td>3</td>\n",
       "      <td>11.15</td>\n",
       "      <td>0.0</td>\n",
       "    </tr>\n",
       "  </tbody>\n",
       "</table>\n",
       "</div>"
      ],
      "text/plain": [
       "   Accession_number  Elastography Date gender   age     BMI label  Kilopascal  \\\n",
       "0     4015009301008             1139.0    NaN  78.0  35.050     2        7.75   \n",
       "1     4015007487057             2203.0    NaN  73.0  26.446     0        6.05   \n",
       "2     4015008849573             1384.0    NaN  73.0  26.446     0        5.85   \n",
       "3     4015010341175              586.0    NaN  73.0  26.446     0        8.50   \n",
       "4     4015010798265              376.0    NaN  72.0  34.964     3       11.15   \n",
       "\n",
       "   liver biopsy  \n",
       "0           0.0  \n",
       "1           0.0  \n",
       "2           0.0  \n",
       "3           0.0  \n",
       "4           0.0  "
      ]
     },
     "execution_count": 3,
     "metadata": {},
     "output_type": "execute_result"
    }
   ],
   "source": [
    "annotations_dir = '../../dataset/US_liver_data/annotations/Liver_Elastography_annotations_Sheba.xlsx'\n",
    "df = pd.read_excel(annotations_dir)\n",
    "# check the number of nans in each column\n",
    "print(f\"the number of NaN scores are: {df.isnull().sum()}\")\n",
    "\n",
    "df.rename(columns={'טבלת המרה': 'Conversion', 'fibrosis score': 'label', 'birthdate': 'age'}, inplace=True)\n",
    "df.drop(columns=['underlying conditions', 'Conversion', 'deceased'], inplace=True)\n",
    "# filter out all unlabeled data\n",
    "df = df[~df['label'].isnull() & ~(df['label']=='technical problem')]\n",
    "df['label'] = df['label'].astype(str)\n",
    "\n",
    "df['Kilopascal'] = df['Kilopascal'].astype(str)\n",
    "df['Kilopascal'] = df['Kilopascal'].apply(kp_label)\n",
    "# Remove kilopascal outliers using z-score\n",
    "z1 = np.abs(stats.zscore(df['Kilopascal'], nan_policy='omit'))\n",
    "df = df[z1 < 3]\n",
    "df['Kilopascal'].fillna(value=0, inplace=True)\n",
    "df['Accession_number'] = df['Accession_number'].astype(int)\n",
    "# Apply the function to the 'birth_date' column\n",
    "df['age'] = df['age'].apply(calculate_age)\n",
    "df['Elastography Date'] = df['Elastography Date'].apply(days_sense_test)\n",
    "df['liver biopsy'] = df['liver biopsy'].apply(days_sense_test)\n",
    "# Remove birthdate outliers using z-score\n",
    "z = np.abs(stats.zscore(df['age'], nan_policy='omit'))\n",
    "df = df[z < 3]\n",
    "# fill in the missing values with the mean\n",
    "columns = ['BMI', 'age', 'Elastography Date', 'liver biopsy']\n",
    "imputer = SimpleImputer(strategy='mean')\n",
    "# Fit the imputer to the selected columns\n",
    "df_selected = df.loc[:, columns]\n",
    "imputer.fit(df_selected)\n",
    "# Transform the selected columns to fill missing values and assign the result to the original DataFrame\n",
    "df.loc[:, columns] = imputer.transform(df_selected)\n",
    "\n",
    "df.head()"
   ]
  },
  {
   "cell_type": "code",
   "execution_count": 4,
   "metadata": {},
   "outputs": [
    {
     "data": {
      "text/html": [
       "<div>\n",
       "<style scoped>\n",
       "    .dataframe tbody tr th:only-of-type {\n",
       "        vertical-align: middle;\n",
       "    }\n",
       "\n",
       "    .dataframe tbody tr th {\n",
       "        vertical-align: top;\n",
       "    }\n",
       "\n",
       "    .dataframe thead th {\n",
       "        text-align: right;\n",
       "    }\n",
       "</style>\n",
       "<table border=\"1\" class=\"dataframe\">\n",
       "  <thead>\n",
       "    <tr style=\"text-align: right;\">\n",
       "      <th></th>\n",
       "      <th>Accession_number</th>\n",
       "      <th>Elastography Date</th>\n",
       "      <th>age</th>\n",
       "      <th>BMI</th>\n",
       "      <th>Kilopascal</th>\n",
       "      <th>liver biopsy</th>\n",
       "    </tr>\n",
       "  </thead>\n",
       "  <tbody>\n",
       "    <tr>\n",
       "      <th>count</th>\n",
       "      <td>2.230000e+02</td>\n",
       "      <td>223.000000</td>\n",
       "      <td>223.000000</td>\n",
       "      <td>223.000000</td>\n",
       "      <td>223.000000</td>\n",
       "      <td>223.000000</td>\n",
       "    </tr>\n",
       "    <tr>\n",
       "      <th>mean</th>\n",
       "      <td>4.015009e+12</td>\n",
       "      <td>1345.286996</td>\n",
       "      <td>66.995516</td>\n",
       "      <td>29.340546</td>\n",
       "      <td>9.154484</td>\n",
       "      <td>149.044843</td>\n",
       "    </tr>\n",
       "    <tr>\n",
       "      <th>std</th>\n",
       "      <td>1.345920e+06</td>\n",
       "      <td>778.057791</td>\n",
       "      <td>10.658709</td>\n",
       "      <td>4.259264</td>\n",
       "      <td>7.901387</td>\n",
       "      <td>552.581222</td>\n",
       "    </tr>\n",
       "    <tr>\n",
       "      <th>min</th>\n",
       "      <td>4.015005e+12</td>\n",
       "      <td>187.000000</td>\n",
       "      <td>0.000000</td>\n",
       "      <td>17.147000</td>\n",
       "      <td>3.700000</td>\n",
       "      <td>0.000000</td>\n",
       "    </tr>\n",
       "    <tr>\n",
       "      <th>25%</th>\n",
       "      <td>4.015008e+12</td>\n",
       "      <td>670.000000</td>\n",
       "      <td>57.000000</td>\n",
       "      <td>26.601000</td>\n",
       "      <td>5.275000</td>\n",
       "      <td>0.000000</td>\n",
       "    </tr>\n",
       "    <tr>\n",
       "      <th>50%</th>\n",
       "      <td>4.015009e+12</td>\n",
       "      <td>1279.000000</td>\n",
       "      <td>69.000000</td>\n",
       "      <td>29.340546</td>\n",
       "      <td>6.750000</td>\n",
       "      <td>0.000000</td>\n",
       "    </tr>\n",
       "    <tr>\n",
       "      <th>75%</th>\n",
       "      <td>4.015010e+12</td>\n",
       "      <td>1805.000000</td>\n",
       "      <td>75.000000</td>\n",
       "      <td>31.363500</td>\n",
       "      <td>9.925000</td>\n",
       "      <td>0.000000</td>\n",
       "    </tr>\n",
       "    <tr>\n",
       "      <th>max</th>\n",
       "      <td>4.015011e+12</td>\n",
       "      <td>3694.000000</td>\n",
       "      <td>86.000000</td>\n",
       "      <td>44.920000</td>\n",
       "      <td>84.250000</td>\n",
       "      <td>3843.000000</td>\n",
       "    </tr>\n",
       "  </tbody>\n",
       "</table>\n",
       "</div>"
      ],
      "text/plain": [
       "       Accession_number  Elastography Date         age         BMI  \\\n",
       "count      2.230000e+02         223.000000  223.000000  223.000000   \n",
       "mean       4.015009e+12        1345.286996   66.995516   29.340546   \n",
       "std        1.345920e+06         778.057791   10.658709    4.259264   \n",
       "min        4.015005e+12         187.000000    0.000000   17.147000   \n",
       "25%        4.015008e+12         670.000000   57.000000   26.601000   \n",
       "50%        4.015009e+12        1279.000000   69.000000   29.340546   \n",
       "75%        4.015010e+12        1805.000000   75.000000   31.363500   \n",
       "max        4.015011e+12        3694.000000   86.000000   44.920000   \n",
       "\n",
       "       Kilopascal  liver biopsy  \n",
       "count  223.000000    223.000000  \n",
       "mean     9.154484    149.044843  \n",
       "std      7.901387    552.581222  \n",
       "min      3.700000      0.000000  \n",
       "25%      5.275000      0.000000  \n",
       "50%      6.750000      0.000000  \n",
       "75%      9.925000      0.000000  \n",
       "max     84.250000   3843.000000  "
      ]
     },
     "execution_count": 4,
     "metadata": {},
     "output_type": "execute_result"
    }
   ],
   "source": [
    "df.describe()"
   ]
  },
  {
   "cell_type": "code",
   "execution_count": 5,
   "metadata": {},
   "outputs": [
    {
     "data": {
      "text/html": [
       "<div>\n",
       "<style scoped>\n",
       "    .dataframe tbody tr th:only-of-type {\n",
       "        vertical-align: middle;\n",
       "    }\n",
       "\n",
       "    .dataframe tbody tr th {\n",
       "        vertical-align: top;\n",
       "    }\n",
       "\n",
       "    .dataframe thead th {\n",
       "        text-align: right;\n",
       "    }\n",
       "</style>\n",
       "<table border=\"1\" class=\"dataframe\">\n",
       "  <thead>\n",
       "    <tr style=\"text-align: right;\">\n",
       "      <th></th>\n",
       "      <th>gender</th>\n",
       "      <th>label</th>\n",
       "    </tr>\n",
       "  </thead>\n",
       "  <tbody>\n",
       "    <tr>\n",
       "      <th>count</th>\n",
       "      <td>132</td>\n",
       "      <td>223</td>\n",
       "    </tr>\n",
       "    <tr>\n",
       "      <th>unique</th>\n",
       "      <td>2</td>\n",
       "      <td>9</td>\n",
       "    </tr>\n",
       "    <tr>\n",
       "      <th>top</th>\n",
       "      <td>m</td>\n",
       "      <td>0</td>\n",
       "    </tr>\n",
       "    <tr>\n",
       "      <th>freq</th>\n",
       "      <td>68</td>\n",
       "      <td>98</td>\n",
       "    </tr>\n",
       "  </tbody>\n",
       "</table>\n",
       "</div>"
      ],
      "text/plain": [
       "       gender label\n",
       "count     132   223\n",
       "unique      2     9\n",
       "top         m     0\n",
       "freq       68    98"
      ]
     },
     "execution_count": 5,
     "metadata": {},
     "output_type": "execute_result"
    }
   ],
   "source": [
    "df.describe(include=[object])"
   ]
  },
  {
   "attachments": {},
   "cell_type": "markdown",
   "metadata": {},
   "source": [
    "Convert to FastAI dataset"
   ]
  },
  {
   "cell_type": "code",
   "execution_count": 6,
   "metadata": {},
   "outputs": [
    {
     "data": {
      "text/html": [
       "<table border=\"1\" class=\"dataframe\">\n",
       "  <thead>\n",
       "    <tr style=\"text-align: right;\">\n",
       "      <th></th>\n",
       "      <th>gender</th>\n",
       "      <th>Accession_number</th>\n",
       "      <th>Elastography Date</th>\n",
       "      <th>age</th>\n",
       "      <th>BMI</th>\n",
       "      <th>Kilopascal</th>\n",
       "      <th>liver biopsy</th>\n",
       "      <th>label</th>\n",
       "    </tr>\n",
       "  </thead>\n",
       "  <tbody>\n",
       "    <tr>\n",
       "      <th>188</th>\n",
       "      <td>m</td>\n",
       "      <td>4015010032596</td>\n",
       "      <td>740.0</td>\n",
       "      <td>37.0</td>\n",
       "      <td>24.768000</td>\n",
       "      <td>4.75</td>\n",
       "      <td>0.0</td>\n",
       "      <td>0</td>\n",
       "    </tr>\n",
       "    <tr>\n",
       "      <th>156</th>\n",
       "      <td>m</td>\n",
       "      <td>4015008482371</td>\n",
       "      <td>1587.0</td>\n",
       "      <td>55.0</td>\n",
       "      <td>30.739000</td>\n",
       "      <td>11.50</td>\n",
       "      <td>0.0</td>\n",
       "      <td>3-4</td>\n",
       "    </tr>\n",
       "    <tr>\n",
       "      <th>152</th>\n",
       "      <td>f</td>\n",
       "      <td>4015008885942</td>\n",
       "      <td>1363.0</td>\n",
       "      <td>57.0</td>\n",
       "      <td>28.673000</td>\n",
       "      <td>4.50</td>\n",
       "      <td>0.0</td>\n",
       "      <td>0</td>\n",
       "    </tr>\n",
       "    <tr>\n",
       "      <th>115</th>\n",
       "      <td>f</td>\n",
       "      <td>4015007545516</td>\n",
       "      <td>2168.0</td>\n",
       "      <td>67.0</td>\n",
       "      <td>22.959000</td>\n",
       "      <td>7.75</td>\n",
       "      <td>0.0</td>\n",
       "      <td>2</td>\n",
       "    </tr>\n",
       "    <tr>\n",
       "      <th>85</th>\n",
       "      <td>#na#</td>\n",
       "      <td>4015008822807</td>\n",
       "      <td>1398.0</td>\n",
       "      <td>71.0</td>\n",
       "      <td>39.301998</td>\n",
       "      <td>23.00</td>\n",
       "      <td>0.0</td>\n",
       "      <td>4</td>\n",
       "    </tr>\n",
       "  </tbody>\n",
       "</table>"
      ],
      "text/plain": [
       "<IPython.core.display.HTML object>"
      ]
     },
     "metadata": {},
     "output_type": "display_data"
    }
   ],
   "source": [
    "dep_var = 'label'\n",
    "procs = [Categorify, FillMissing]\n",
    "# split train and test to 70-30\n",
    "splits = RandomSplitter(valid_pct=0.3)(range_of(df))\n",
    "cont, cat = cont_cat_split(df, 1, dep_var=dep_var)\n",
    "to = TabularPandas(df, procs, cat, cont, y_names=dep_var, splits=splits)\n",
    "#hide_output\n",
    "to.show(5)"
   ]
  },
  {
   "attachments": {},
   "cell_type": "markdown",
   "metadata": {},
   "source": [
    "## First step, use use XGBoost and random forests only on the table"
   ]
  },
  {
   "cell_type": "code",
   "execution_count": 7,
   "metadata": {},
   "outputs": [
    {
     "data": {
      "image/svg+xml": "<?xml version=\"1.0\" encoding=\"UTF-8\" standalone=\"no\"?>\n<!DOCTYPE svg PUBLIC \"-//W3C//DTD SVG 1.1//EN\"\n \"http://www.w3.org/Graphics/SVG/1.1/DTD/svg11.dtd\">\n<!-- Generated by graphviz version 2.43.0 (0)\n -->\n<!-- Title: Tree Pages: 1 -->\n<svg width=\"1054pt\" height=\"636pt\"\n viewBox=\"0.00 0.00 1054.00 636.44\" xmlns=\"http://www.w3.org/2000/svg\" xmlns:xlink=\"http://www.w3.org/1999/xlink\">\n<g id=\"graph0\" class=\"graph\" transform=\"scale(1 1) rotate(0) translate(4 632.44)\">\n<title>Tree</title>\n<polygon fill=\"white\" stroke=\"transparent\" points=\"-4,4 -4,-632.44 1050,-632.44 1050,4 -4,4\"/>\n<!-- 0 -->\n<g id=\"node1\" class=\"node\">\n<title>0</title>\n<path fill=\"#f5ceb3\" stroke=\"black\" d=\"M382.5,-605C382.5,-605 131.5,-605 131.5,-605 125.5,-605 119.5,-599 119.5,-593 119.5,-593 119.5,-549 119.5,-549 119.5,-543 125.5,-537 131.5,-537 131.5,-537 382.5,-537 382.5,-537 388.5,-537 394.5,-543 394.5,-549 394.5,-549 394.5,-593 394.5,-593 394.5,-599 388.5,-605 382.5,-605\"/>\n<text text-anchor=\"start\" x=\"196\" y=\"-589.8\" font-family=\"Helvetica,sans-Serif\" font-size=\"14.00\">Kilopascal ≤ 6.17</text>\n<text text-anchor=\"start\" x=\"217.5\" y=\"-574.8\" font-family=\"Helvetica,sans-Serif\" font-size=\"14.00\">gini = 0.73</text>\n<text text-anchor=\"start\" x=\"204\" y=\"-559.8\" font-family=\"Helvetica,sans-Serif\" font-size=\"14.00\">samples = 157</text>\n<text text-anchor=\"start\" x=\"127.5\" y=\"-544.8\" font-family=\"Helvetica,sans-Serif\" font-size=\"14.00\">value = [74, 7, 4, 6, 20, 6, 8, 10, 22]</text>\n</g>\n<!-- 1 -->\n<g id=\"node2\" class=\"node\">\n<title>1</title>\n<path fill=\"#e6843e\" stroke=\"black\" d=\"M236,-71.5C236,-71.5 12,-71.5 12,-71.5 6,-71.5 0,-65.5 0,-59.5 0,-59.5 0,-30.5 0,-30.5 0,-24.5 6,-18.5 12,-18.5 12,-18.5 236,-18.5 236,-18.5 242,-18.5 248,-24.5 248,-30.5 248,-30.5 248,-59.5 248,-59.5 248,-65.5 242,-71.5 236,-71.5\"/>\n<text text-anchor=\"start\" x=\"84.5\" y=\"-56.3\" font-family=\"Helvetica,sans-Serif\" font-size=\"14.00\">gini = 0.05</text>\n<text text-anchor=\"start\" x=\"75.5\" y=\"-41.3\" font-family=\"Helvetica,sans-Serif\" font-size=\"14.00\">samples = 75</text>\n<text text-anchor=\"start\" x=\"8\" y=\"-26.3\" font-family=\"Helvetica,sans-Serif\" font-size=\"14.00\">value = [73, 2, 0, 0, 0, 0, 0, 0, 0]</text>\n</g>\n<!-- 0&#45;&gt;1 -->\n<g id=\"edge1\" class=\"edge\">\n<title>0&#45;&gt;1</title>\n<path fill=\"none\" stroke=\"black\" d=\"M248.58,-536.82C224.83,-443.27 157.48,-177.9 133.02,-81.53\"/>\n<polygon fill=\"black\" stroke=\"black\" points=\"136.37,-80.52 130.52,-71.69 129.59,-82.24 136.37,-80.52\"/>\n<text text-anchor=\"middle\" x=\"117.73\" y=\"-89.47\" font-family=\"Helvetica,sans-Serif\" font-size=\"14.00\">True</text>\n</g>\n<!-- 2 -->\n<g id=\"node3\" class=\"node\">\n<title>2</title>\n<path fill=\"#fef9fa\" stroke=\"black\" d=\"M644,-430C644,-430 402,-430 402,-430 396,-430 390,-424 390,-418 390,-418 390,-374 390,-374 390,-368 396,-362 402,-362 402,-362 644,-362 644,-362 650,-362 656,-368 656,-374 656,-374 656,-418 656,-418 656,-424 650,-430 644,-430\"/>\n<text text-anchor=\"start\" x=\"457.5\" y=\"-414.8\" font-family=\"Helvetica,sans-Serif\" font-size=\"14.00\">Kilopascal ≤ 12.62</text>\n<text text-anchor=\"start\" x=\"483.5\" y=\"-399.8\" font-family=\"Helvetica,sans-Serif\" font-size=\"14.00\">gini = 0.83</text>\n<text text-anchor=\"start\" x=\"474.5\" y=\"-384.8\" font-family=\"Helvetica,sans-Serif\" font-size=\"14.00\">samples = 82</text>\n<text text-anchor=\"start\" x=\"398\" y=\"-369.8\" font-family=\"Helvetica,sans-Serif\" font-size=\"14.00\">value = [1, 5, 4, 6, 20, 6, 8, 10, 22]</text>\n</g>\n<!-- 0&#45;&gt;2 -->\n<g id=\"edge2\" class=\"edge\">\n<title>0&#45;&gt;2</title>\n<path fill=\"none\" stroke=\"black\" d=\"M307.97,-536.85C352.42,-507.94 416.93,-465.99 463.68,-435.58\"/>\n<polygon fill=\"black\" stroke=\"black\" points=\"465.72,-438.43 472.2,-430.04 461.91,-432.56 465.72,-438.43\"/>\n<text text-anchor=\"middle\" x=\"467.02\" y=\"-450.8\" font-family=\"Helvetica,sans-Serif\" font-size=\"14.00\">False</text>\n</g>\n<!-- 3 -->\n<g id=\"node4\" class=\"node\">\n<title>3</title>\n<path fill=\"#d8f7fa\" stroke=\"black\" d=\"M639.5,-254C639.5,-254 406.5,-254 406.5,-254 400.5,-254 394.5,-248 394.5,-242 394.5,-242 394.5,-198 394.5,-198 394.5,-192 400.5,-186 406.5,-186 406.5,-186 639.5,-186 639.5,-186 645.5,-186 651.5,-192 651.5,-198 651.5,-198 651.5,-242 651.5,-242 651.5,-248 645.5,-254 639.5,-254\"/>\n<text text-anchor=\"start\" x=\"462\" y=\"-238.8\" font-family=\"Helvetica,sans-Serif\" font-size=\"14.00\">Kilopascal ≤ 9.55</text>\n<text text-anchor=\"start\" x=\"483.5\" y=\"-223.8\" font-family=\"Helvetica,sans-Serif\" font-size=\"14.00\">gini = 0.82</text>\n<text text-anchor=\"start\" x=\"474.5\" y=\"-208.8\" font-family=\"Helvetica,sans-Serif\" font-size=\"14.00\">samples = 61</text>\n<text text-anchor=\"start\" x=\"402.5\" y=\"-193.8\" font-family=\"Helvetica,sans-Serif\" font-size=\"14.00\">value = [1, 5, 4, 6, 20, 6, 8, 10, 1]</text>\n</g>\n<!-- 2&#45;&gt;3 -->\n<g id=\"edge3\" class=\"edge\">\n<title>2&#45;&gt;3</title>\n<path fill=\"none\" stroke=\"black\" d=\"M523,-361.86C523,-334.17 523,-294.46 523,-264.26\"/>\n<polygon fill=\"black\" stroke=\"black\" points=\"526.5,-264.01 523,-254.01 519.5,-264.01 526.5,-264.01\"/>\n</g>\n<!-- 4 -->\n<g id=\"node7\" class=\"node\">\n<title>4</title>\n<path fill=\"#e53964\" stroke=\"black\" d=\"M1034,-71.5C1034,-71.5 810,-71.5 810,-71.5 804,-71.5 798,-65.5 798,-59.5 798,-59.5 798,-30.5 798,-30.5 798,-24.5 804,-18.5 810,-18.5 810,-18.5 1034,-18.5 1034,-18.5 1040,-18.5 1046,-24.5 1046,-30.5 1046,-30.5 1046,-59.5 1046,-59.5 1046,-65.5 1040,-71.5 1034,-71.5\"/>\n<text text-anchor=\"start\" x=\"887\" y=\"-56.3\" font-family=\"Helvetica,sans-Serif\" font-size=\"14.00\">gini = 0.0</text>\n<text text-anchor=\"start\" x=\"873.5\" y=\"-41.3\" font-family=\"Helvetica,sans-Serif\" font-size=\"14.00\">samples = 21</text>\n<text text-anchor=\"start\" x=\"806\" y=\"-26.3\" font-family=\"Helvetica,sans-Serif\" font-size=\"14.00\">value = [0, 0, 0, 0, 0, 0, 0, 0, 21]</text>\n</g>\n<!-- 2&#45;&gt;4 -->\n<g id=\"edge6\" class=\"edge\">\n<title>2&#45;&gt;4</title>\n<path fill=\"none\" stroke=\"black\" d=\"M560.9,-361.85C637.29,-295.04 808.92,-144.91 884.76,-78.58\"/>\n<polygon fill=\"black\" stroke=\"black\" points=\"887.43,-80.88 892.66,-71.67 882.83,-75.61 887.43,-80.88\"/>\n</g>\n<!-- 5 -->\n<g id=\"node5\" class=\"node\">\n<title>5</title>\n<path fill=\"#b2eff5\" stroke=\"black\" d=\"M502,-71.5C502,-71.5 278,-71.5 278,-71.5 272,-71.5 266,-65.5 266,-59.5 266,-59.5 266,-30.5 266,-30.5 266,-24.5 272,-18.5 278,-18.5 278,-18.5 502,-18.5 502,-18.5 508,-18.5 514,-24.5 514,-30.5 514,-30.5 514,-59.5 514,-59.5 514,-65.5 508,-71.5 502,-71.5\"/>\n<text text-anchor=\"start\" x=\"350.5\" y=\"-56.3\" font-family=\"Helvetica,sans-Serif\" font-size=\"14.00\">gini = 0.71</text>\n<text text-anchor=\"start\" x=\"341.5\" y=\"-41.3\" font-family=\"Helvetica,sans-Serif\" font-size=\"14.00\">samples = 42</text>\n<text text-anchor=\"start\" x=\"274\" y=\"-26.3\" font-family=\"Helvetica,sans-Serif\" font-size=\"14.00\">value = [1, 5, 4, 6, 20, 6, 0, 0, 0]</text>\n</g>\n<!-- 3&#45;&gt;5 -->\n<g id=\"edge4\" class=\"edge\">\n<title>3&#45;&gt;5</title>\n<path fill=\"none\" stroke=\"black\" d=\"M497.36,-185.64C473.97,-155.22 439.57,-110.47 416.05,-79.88\"/>\n<polygon fill=\"black\" stroke=\"black\" points=\"418.59,-77.45 409.72,-71.65 413.04,-81.72 418.59,-77.45\"/>\n</g>\n<!-- 6 -->\n<g id=\"node6\" class=\"node\">\n<title>6</title>\n<path fill=\"#fadbf8\" stroke=\"black\" d=\"M768,-71.5C768,-71.5 544,-71.5 544,-71.5 538,-71.5 532,-65.5 532,-59.5 532,-59.5 532,-30.5 532,-30.5 532,-24.5 538,-18.5 544,-18.5 544,-18.5 768,-18.5 768,-18.5 774,-18.5 780,-24.5 780,-30.5 780,-30.5 780,-59.5 780,-59.5 780,-65.5 774,-71.5 768,-71.5\"/>\n<text text-anchor=\"start\" x=\"616.5\" y=\"-56.3\" font-family=\"Helvetica,sans-Serif\" font-size=\"14.00\">gini = 0.54</text>\n<text text-anchor=\"start\" x=\"607.5\" y=\"-41.3\" font-family=\"Helvetica,sans-Serif\" font-size=\"14.00\">samples = 19</text>\n<text text-anchor=\"start\" x=\"540\" y=\"-26.3\" font-family=\"Helvetica,sans-Serif\" font-size=\"14.00\">value = [0, 0, 0, 0, 0, 0, 8, 10, 1]</text>\n</g>\n<!-- 3&#45;&gt;6 -->\n<g id=\"edge5\" class=\"edge\">\n<title>3&#45;&gt;6</title>\n<path fill=\"none\" stroke=\"black\" d=\"M548.64,-185.64C572.03,-155.22 606.43,-110.47 629.95,-79.88\"/>\n<polygon fill=\"black\" stroke=\"black\" points=\"632.96,-81.72 636.28,-71.65 627.41,-77.45 632.96,-81.72\"/>\n</g>\n</g>\n</svg>\n",
      "text/plain": [
       "<graphviz.sources.Source at 0x7f72332d46a0>"
      ]
     },
     "execution_count": 7,
     "metadata": {},
     "output_type": "execute_result"
    }
   ],
   "source": [
    "xs,y = to.train.xs,to.train.y\n",
    "valid_xs,valid_y = to.valid.xs,to.valid.y\n",
    "m = DecisionTreeClassifier(max_leaf_nodes=4)\n",
    "m.fit(xs, y)\n",
    "draw_tree(m, xs, size=100, leaves_parallel=True, precision=2)"
   ]
  },
  {
   "cell_type": "code",
   "execution_count": 8,
   "metadata": {},
   "outputs": [
    {
     "data": {
      "text/plain": [
       "<AxesSubplot: ylabel='cols'>"
      ]
     },
     "execution_count": 8,
     "metadata": {},
     "output_type": "execute_result"
    },
    {
     "data": {
      "image/png": "[encoded data removed]",
      "text/plain": [
       "<Figure size 640x480 with 1 Axes>"
      ]
     },
     "metadata": {},
     "output_type": "display_data"
    }
   ],
   "source": [
    "xs,y = to.train.xs,to.train.y\n",
    "valid_xs,valid_y = to.valid.xs,to.valid.y\n",
    "m = DecisionTreeClassifier().fit(xs, y)\n",
    "pd.DataFrame(dict(cols=xs.columns, imp=m.feature_importances_)).plot('cols', 'imp', 'barh')"
   ]
  },
  {
   "attachments": {},
   "cell_type": "markdown",
   "metadata": {},
   "source": [
    "## Second step, use images to predict KiloPascal, which is the most contributing factor"
   ]
  },
  {
   "cell_type": "code",
   "execution_count": null,
   "metadata": {},
   "outputs": [],
   "source": []
  }
 ],
 "metadata": {
  "kernelspec": {
   "display_name": "Python 3",
   "language": "python",
   "name": "python3"
  },
  "language_info": {
   "codemirror_mode": {
    "name": "ipython",
    "version": 3
   },
   "file_extension": ".py",
   "mimetype": "text/x-python",
   "name": "python",
   "nbconvert_exporter": "python",
   "pygments_lexer": "ipython3",
   "version": "3.9.13"
  },
  "orig_nbformat": 4,
  "vscode": {
   "interpreter": {
    "hash": "c0f65b6c89ae844b8e37150dd3489a420df7650db04d9a50812ad6760db9392a"
   }
  }
 },
 "nbformat": 4,
 "nbformat_minor": 2
}
